{
 "cells": [
  {
   "cell_type": "markdown",
   "metadata": {},
   "source": [
    "This exercise will require you to pull some data from the Quandl API. Qaundl is currently the most widely used aggregator of financial market data."
   ]
  },
  {
   "cell_type": "markdown",
   "metadata": {},
   "source": [
    "As a first step, you will need to register a free account on the http://www.quandl.com website."
   ]
  },
  {
   "cell_type": "markdown",
   "metadata": {},
   "source": [
    "After you register, you will be provided with a unique API key, that you should store:"
   ]
  },
  {
   "cell_type": "code",
   "execution_count": 154,
   "metadata": {
    "collapsed": true
   },
   "outputs": [],
   "source": [
    "# Store the API key as a string - according to PEP8, constants are always named in all upper case\n",
    "API_KEY = 'XXX'"
   ]
  },
  {
   "cell_type": "markdown",
   "metadata": {},
   "source": [
    "Qaundl has a large number of data sources, but, unfortunately, most of them require a Premium subscription. Still, there are also a good number of free datasets."
   ]
  },
  {
   "cell_type": "markdown",
   "metadata": {},
   "source": [
    "For this mini project, we will focus on equities data from the Frankfurt Stock Exhange (FSE), which is available for free. We'll try and analyze the stock prices of a company called Carl Zeiss Meditec, which manufactures tools for eye examinations, as well as medical lasers for laser eye surgery: https://www.zeiss.com/meditec/int/home.html. The company is listed under the stock ticker AFX_X."
   ]
  },
  {
   "cell_type": "markdown",
   "metadata": {},
   "source": [
    "You can find the detailed Quandl API instructions here: https://docs.quandl.com/docs/time-series"
   ]
  },
  {
   "cell_type": "markdown",
   "metadata": {},
   "source": [
    "While there is a dedicated Python package for connecting to the Quandl API, we would prefer that you use the *requests* package, which can be easily downloaded using *pip* or *conda*. You can find the documentation for the package here: http://docs.python-requests.org/en/master/ "
   ]
  },
  {
   "cell_type": "markdown",
   "metadata": {},
   "source": [
    "Finally, apart from the *requests* package, you are encouraged to not use any third party Python packages, such as *pandas*, and instead focus on what's available in the Python Standard Library (the *collections* module might come in handy: https://pymotw.com/3/collections/ ).\n",
    "Also, since you won't have access to DataFrames, you are encouraged to us Python's native data structures - preferably dictionaries, though some questions can also be answered using lists.\n",
    "You can read more on these data structures here: https://docs.python.org/3/tutorial/datastructures.html"
   ]
  },
  {
   "cell_type": "markdown",
   "metadata": {},
   "source": [
    "Keep in mind that the JSON responses you will be getting from the API map almost one-to-one to Python's dictionaries. Unfortunately, they can be very nested, so make sure you read up on indexing dictionaries in the documentation provided above."
   ]
  },
  {
   "cell_type": "code",
   "execution_count": 155,
   "metadata": {},
   "outputs": [
    {
     "data": {
      "text/plain": [
       "'C:\\\\Users\\\\David Olivero\\\\AnacondaProjects\\\\Unit-7'"
      ]
     },
     "execution_count": 155,
     "metadata": {},
     "output_type": "execute_result"
    }
   ],
   "source": [
    "# First, import the relevant modules\n",
    "import requests\n",
    "import json\n",
    "import os\n",
    "import collections\n",
    "import matplotlib.pyplot as plt\n",
    "% matplotlib inline\n",
    "\n",
    "os.getcwd()\n"
   ]
  },
  {
   "cell_type": "code",
   "execution_count": 156,
   "metadata": {},
   "outputs": [],
   "source": [
    "# Now, call the Quandl API and pull out a small sample of the data (only one day) to get a glimpse\n",
    "# into the JSON structure that will be returned\n",
    "stock = 'AFX_X'\n",
    "url = 'https://www.quandl.com/api/v3/datasets/FSE/%s.json' % stock\n",
    "\n",
    "params = dict(start_date='2020/05/29', api_key=API_KEY)\n",
    "\n",
    "r = requests.get(url, params=params)"
   ]
  },
  {
   "cell_type": "code",
   "execution_count": 157,
   "metadata": {},
   "outputs": [
    {
     "name": "stdout",
     "output_type": "stream",
     "text": [
      "dataset : {'id': 10095370, 'dataset_code': 'AFX_X', 'database_code': 'FSE', 'name': 'Carl Zeiss Meditec (AFX_X)', 'description': 'Stock Prices for Carl Zeiss Meditec (2020-05-15) from the Frankfurt Stock Exchange.<br><br>Trading System: Xetra<br><br>ISIN: DE0005313704', 'refreshed_at': '2020-05-29T22:16:21.973Z', 'newest_available_date': '2020-05-29', 'oldest_available_date': '2000-06-07', 'column_names': ['Date', 'Open', 'High', 'Low', 'Close', 'Change', 'Traded Volume', 'Turnover', 'Last Price of the Day', 'Daily Traded Units', 'Daily Turnover'], 'frequency': 'daily', 'type': 'Time Series', 'premium': False, 'limit': None, 'transform': None, 'column_index': None, 'start_date': '2020-05-29', 'end_date': '2020-05-29', 'data': [['2020-05-29', 91.05, 93.1, 90.25, 92.1, None, 238162.0, 21887648.1, None, None, None]], 'collapse': None, 'order': None, 'database_id': 6129}\n"
     ]
    }
   ],
   "source": [
    "# Inspect the JSON structure of the object you created, and take note of how nested it is,\n",
    "# as well as the overall structure\n",
    "json_data = r.json()\n",
    "\n",
    "for key, value in json_data.items():\n",
    "    print(key, ':', value)"
   ]
  },
  {
   "cell_type": "code",
   "execution_count": 158,
   "metadata": {},
   "outputs": [
    {
     "name": "stdout",
     "output_type": "stream",
     "text": [
      "Closing Price for 2020-05-29 is 92.1\n"
     ]
    }
   ],
   "source": [
    "prices = json_data['dataset']['data']\n",
    "\n",
    "print('Closing Price for', prices[0][0],'is', prices[0][4])"
   ]
  },
  {
   "cell_type": "markdown",
   "metadata": {},
   "source": [
    "These are your tasks for this mini project:\n",
    "\n",
    "1. Collect data from the Franfurt Stock Exchange, for the ticker AFX_X, for the whole year 2017 (keep in mind that the date format is YYYY-MM-DD).\n",
    "2. Convert the returned JSON object into a Python dictionary.\n",
    "3. Calculate what the highest and lowest opening prices were for the stock in this period.\n",
    "4. What was the largest change in any one day (based on High and Low price)?\n",
    "5. What was the largest change between any two days (based on Closing Price)?\n",
    "6. What was the average daily trading volume during this year?\n",
    "7. (Optional) What was the median trading volume during this year. (Note: you may need to implement your own function for calculating the median.)"
   ]
  },
  {
   "cell_type": "code",
   "execution_count": 159,
   "metadata": {},
   "outputs": [],
   "source": [
    "# Task 1 : Collect data from the Franfurt Stock Exchange, for the ticker AFX_X, for the whole year 2017  (YYYY-MM-DD).\n",
    "\n",
    "stock = 'AFX_X'\n",
    "start_date = '2017-01-01'\n",
    "end_date = '2018-01-01'\n",
    "\n",
    "params_2017 = dict(start_date=start_date, end_date=end_date, api_key=API_KEY)\n",
    "\n",
    "r_2017 = requests.get(url, params=params_2017)\n"
   ]
  },
  {
   "cell_type": "code",
   "execution_count": 160,
   "metadata": {},
   "outputs": [
    {
     "name": "stdout",
     "output_type": "stream",
     "text": [
      "[['2017-12-29', 51.76, 51.94, 51.45, 51.76, None, 34640.0, 1792304.0, None, None, None], ['2017-12-28', 51.65, 51.82, 51.43, 51.6, None, 40660.0, 2099024.0, None, None, None], ['2017-12-27', 51.45, 51.89, 50.76, 51.82, None, 57452.0, 2957018.0, None, None, None], ['2017-12-22', 51.05, 51.5, 50.92, 51.32, None, 71165.0, 3641949.0, None, None, None], ['2017-12-21', 51.16, 51.52, 50.9, 51.4, None, 120649.0, 6179433.0, None, None, None], ['2017-12-20', 51.88, 52.04, 51.2, 51.27, None, 50587.0, 2610258.0, None, None, None], ['2017-12-19', 52.73, 52.73, 51.07, 51.66, None, 137313.0, 7102361.0, None, None, None], ['2017-12-18', 52.37, 52.75, 51.61, 52.62, None, 129733.0, 6770499.0, None, None, None], ['2017-12-15', 52.7, 52.7, 51.64, 52.01, None, 204080.0, 10596319.0, None, None, None], ['2017-12-14', 53.11, 53.54, 52.15, 52.67, None, 132981.0, 7016953.0, None, None, None], ['2017-12-13', 52.64, 53.35, 52.48, 53.09, None, 128434.0, 6801159.0, None, None, None], ['2017-12-12', 52.29, 53.1, 51.82, 52.43, None, 87911.0, 4615924.0, None, None, None], ['2017-12-11', 52.28, 52.45, 51.26, 52.14, None, 71817.0, 3724193.0, None, None, None], ['2017-12-08', 51.5, 52.83, 51.28, 52.12, None, 109157.0, 5690648.0, None, None, None], ['2017-12-07', 50.89, 51.47, 50.81, 51.47, None, 48123.0, 2463848.0, None, None, None], ['2017-12-06', 50.8, 51.11, 50.39, 50.89, None, 88730.0, 4504075.0, None, None, None], ['2017-12-05', 51.21, 51.38, 50.4, 51.25, None, 83023.0, 4231971.0, None, None, None], ['2017-12-04', 49.5, 51.23, 49.5, 51.14, None, 94385.0, 4800027.0, None, None, None], ['2017-12-01', 49.52, 50.49, 49.17, 49.86, None, 101733.0, 5065932.0, None, None, None], ['2017-11-30', 48.64, 49.84, 48.28, 49.7, None, 123019.0, 6085171.0, None, None, None], ['2017-11-29', 49.64, 49.64, 48.7, 48.75, None, 67342.0, 3292223.0, None, None, None], ['2017-11-28', 49.09, 49.89, 49.03, 49.25, None, 42669.0, 2107358.0, None, None, None], ['2017-11-27', 49.13, 49.73, 48.96, 49.2, None, 102180.0, 5055762.0, None, None, None], ['2017-11-24', 49.11, 49.41, 48.87, 49.11, None, 50350.0, 2472842.0, None, None, None], ['2017-11-23', 48.8, 49.46, 48.45, 49.2, None, 38834.0, 1909352.0, None, None, None], ['2017-11-22', 48.4, 49.61, 48.39, 48.8, None, 91142.0, 4478093.0, None, None, None], ['2017-11-21', 47.25, 48.59, 46.78, 48.39, None, 78502.0, 3782098.0, None, None, None], ['2017-11-20', 46.57, 47.38, 46.54, 47.04, None, 97252.0, 4563515.0, None, None, None], ['2017-11-17', 47.03, 47.15, 46.8, 46.84, None, 54107.0, 2540820.0, None, None, None], ['2017-11-16', 47.09, 47.23, 46.55, 47.03, None, 89373.0, 4195732.0, None, None, None], ['2017-11-15', 47.98, 48.01, 46.75, 47.05, None, 67593.0, 3188321.0, None, None, None], ['2017-11-14', 48.4, 48.9, 47.84, 48.0, None, 67672.0, 3259979.0, None, None, None], ['2017-11-13', 48.38, 48.61, 47.76, 48.34, None, 76286.0, 3681337.0, None, None, None], ['2017-11-10', 47.3, 48.89, 47.16, 48.34, None, 90245.0, 4361552.0, None, None, None], ['2017-11-09', 47.65, 48.06, 47.09, 47.21, None, 120268.0, 5712034.0, None, None, None], ['2017-11-08', 46.42, 47.72, 46.42, 47.47, None, 94195.0, 4463935.0, None, None, None], ['2017-11-07', 46.16, 46.33, 45.84, 46.26, None, 48152.0, 2224221.0, None, None, None], ['2017-11-06', 45.81, 46.09, 45.76, 45.99, None, 60716.0, 2789220.0, None, None, None], ['2017-11-03', 45.0, 46.04, 44.83, 45.97, None, 56911.0, 2603498.0, None, None, None], ['2017-11-02', 45.88, 46.06, 45.18, 45.27, None, 37958.0, 1724840.0, None, None, None], ['2017-11-01', 46.29, 46.55, 45.97, 46.04, None, 56319.0, 2603859.0, None, None, None], ['2017-10-30', 46.53, 46.65, 45.61, 45.76, None, 56245.0, 2585397.0, None, None, None], ['2017-10-27', 45.48, 46.42, 45.46, 46.41, None, 74472.0, 3434087.0, None, None, None], ['2017-10-26', 45.2, 45.41, 44.91, 45.41, None, 56319.0, 2548078.0, None, None, None], ['2017-10-25', 45.01, 45.06, 44.7, 45.0, None, 47730.0, 2145697.0, None, None, None], ['2017-10-24', 45.16, 45.27, 44.75, 44.85, None, 43042.0, 1937616.0, None, None, None], ['2017-10-23', 44.9, 45.34, 44.89, 45.0, None, 43375.0, 1952918.0, None, None, None], ['2017-10-20', 45.08, 45.34, 44.76, 44.87, None, 55707.0, 2503853.0, None, None, None], ['2017-10-19', 45.72, 45.85, 44.79, 45.0, None, 59991.0, 2703085.0, None, None, None], ['2017-10-18', 46.01, 46.2, 45.61, 45.77, None, 45263.0, 2076951.0, None, None, None], ['2017-10-17', 45.8, 46.06, 45.37, 45.96, None, 65837.0, 3014080.0, None, None, None], ['2017-10-16', 45.61, 45.75, 45.3, 45.55, None, 49246.0, 2243129.0, None, None, None], ['2017-10-13', 45.5, 45.7, 45.37, 45.4, None, 43362.0, 1971801.0, None, None, None], ['2017-10-12', 45.58, 45.58, 45.17, 45.43, None, 49180.0, 2233481.0, None, None, None], ['2017-10-11', 45.97, 45.97, 45.25, 45.29, None, 69455.0, 3158321.0, None, None, None], ['2017-10-10', 45.64, 46.04, 45.57, 45.84, None, 65860.0, 3016658.0, None, None, None], ['2017-10-09', 46.2, 46.2, 45.6, 45.74, None, 44059.0, 2015453.0, None, None, None], ['2017-10-06', 46.19, 46.19, 45.69, 46.0, None, 66760.0, 3066198.0, None, None, None], ['2017-10-05', 46.01, 46.09, 45.63, 46.05, None, 94804.0, 4352002.0, None, None, None], ['2017-10-04', 45.36, 46.17, 45.22, 46.11, None, 115706.0, 5313199.0, None, None, None], ['2017-10-02', 44.51, 44.98, 44.18, 44.98, None, 95313.0, 4265024.0, None, None, None], ['2017-09-29', 43.58, 44.17, 43.3, 44.17, None, 99821.0, 4384796.0, None, None, None], ['2017-09-28', 42.0, 43.56, 42.0, 43.56, None, 157234.0, 6775569.0, None, None, None], ['2017-09-27', 42.35, 42.49, 41.78, 42.04, None, 76600.0, 3219861.0, None, None, None], ['2017-09-26', 42.3, 42.57, 42.11, 42.37, None, 51321.0, 2175381.0, None, None, None], ['2017-09-25', 42.3, 42.3, 41.96, 42.07, None, 56224.0, 2366453.0, None, None, None], ['2017-09-22', 41.48, 42.38, 41.48, 42.06, None, 79955.0, 3362517.0, None, None, None], ['2017-09-21', 42.29, 42.29, 41.39, 41.46, None, 105194.0, 4378409.0, None, None, None], ['2017-09-20', 42.54, 42.54, 41.99, 41.99, None, 57838.0, 2440557.0, None, None, None], ['2017-09-19', 42.65, 42.65, 42.13, 42.44, None, 65546.0, 2777065.0, None, None, None], ['2017-09-18', 42.5, 42.63, 42.23, 42.27, None, 44037.0, 1864954.0, None, None, None], ['2017-09-15', 42.29, 42.81, 42.25, 42.42, None, 107144.0, 4555791.0, None, None, None], ['2017-09-14', 42.35, 42.8, 42.35, 42.52, None, 65157.0, 2770696.0, None, None, None], ['2017-09-13', 42.49, 42.69, 42.22, 42.45, None, 68801.0, 2921240.0, None, None, None], ['2017-09-12', 43.21, 43.34, 42.62, 42.73, None, 52828.0, 2259924.0, None, None, None], ['2017-09-11', 42.81, 42.89, 42.56, 42.85, None, 103273.0, 4415614.0, None, None, None], ['2017-09-08', 42.7, 42.75, 42.56, 42.67, None, 59881.0, 2553977.0, None, None, None], ['2017-09-07', 43.0, 43.02, 42.67, 42.77, None, 64320.0, 2751388.0, None, None, None], ['2017-09-06', 42.66, 42.71, 42.34, 42.55, None, 71006.0, 3020229.0, None, None, None], ['2017-09-05', 43.0, 43.19, 42.55, 42.62, None, 66351.0, 2846115.0, None, None, None], ['2017-09-04', 42.38, 42.75, 41.95, 42.6, None, 105288.0, 4471634.0, None, None, None], ['2017-09-01', 42.16, 43.06, 42.07, 42.41, None, 151474.0, 6453558.0, None, None, None], ['2017-08-31', 42.0, 42.08, 41.12, 41.9, None, 157888.0, 6580200.0, None, None, None], ['2017-08-30', 42.0, 42.2, 41.49, 41.94, None, 97804.0, 4090262.0, None, None, None], ['2017-08-29', 41.71, 41.98, 41.33, 41.85, None, 98156.0, 4094452.0, None, None, None], ['2017-08-28', 42.11, 42.25, 41.86, 41.91, None, 47130.0, 1978704.0, None, None, None], ['2017-08-25', 42.64, 42.64, 42.05, 42.14, None, 69734.0, 2948016.0, None, None, None], ['2017-08-24', 42.72, 43.05, 42.63, 42.69, None, 65213.0, 2792319.0, None, None, None], ['2017-08-23', 42.82, 43.17, 42.6, 42.71, None, 70269.0, 3011578.0, None, None, None], ['2017-08-22', 42.46, 42.96, 42.4, 42.71, None, 95376.0, 4075646.0, None, None, None], ['2017-08-21', 42.42, 42.76, 42.2, 42.26, None, 68812.0, 2922972.0, None, None, None], ['2017-08-18', 42.28, 42.6, 42.01, 42.41, None, 72886.0, 3092377.0, None, None, None], ['2017-08-17', 41.88, 43.01, 41.76, 42.5, None, 131361.0, 5583704.0, None, None, None], ['2017-08-16', 42.4, 42.62, 41.98, 42.05, None, 104676.0, 4408312.0, None, None, None], ['2017-08-15', 42.53, 42.53, 42.2, 42.28, None, 64334.0, 2721852.0, None, None, None], ['2017-08-14', 42.12, 42.69, 42.01, 42.3, None, 127682.0, 5416963.0, None, None, None], ['2017-08-11', 41.3, 41.94, 40.96, 41.94, None, 183412.0, 7604144.0, None, None, None], ['2017-08-10', 41.73, 41.99, 41.14, 41.68, None, 175161.0, 7303562.0, None, None, None], ['2017-08-09', 43.5, 43.5, 41.64, 41.81, None, 355857.0, 15003956.0, None, None, None], ['2017-08-08', 44.9, 45.09, 44.15, 44.37, None, 156168.0, 6941408.0, None, None, None], ['2017-08-07', 45.85, 46.34, 44.02, 44.96, None, 164543.0, 7378816.0, None, None, None], ['2017-08-04', 45.13, 45.13, 44.36, 45.07, None, 96202.0, 4306911.0, None, None, None], ['2017-08-03', 45.34, 45.54, 44.91, 44.97, None, 77854.0, 3517146.0, None, None, None], ['2017-08-02', 45.25, 45.77, 44.9, 45.56, None, 187468.0, 8528548.0, None, None, None], ['2017-08-01', 45.24, 45.54, 45.1, 45.45, None, 74975.0, 3399891.0, None, None, None], ['2017-07-31', 44.94, 45.75, 44.94, 45.3, None, 62672.0, 2844210.0, None, None, None], ['2017-07-28', 45.26, 45.29, 44.75, 44.97, None, 114006.0, 5127247.0, None, None, None], ['2017-07-27', 45.16, 45.45, 45.15, 45.25, None, 50557.0, 2290284.0, None, None, None], ['2017-07-26', 44.91, 45.33, 44.46, 45.16, None, 81970.0, 3688510.0, None, None, None], ['2017-07-25', 44.7, 45.04, 44.63, 44.82, None, 112224.0, 5033312.0, None, None, None], ['2017-07-24', 45.31, 45.31, 44.49, 44.61, None, 104282.0, 4661866.0, None, None, None], ['2017-07-21', 45.57, 45.88, 45.04, 45.44, None, 73422.0, 3334695.0, None, None, None], ['2017-07-20', 45.74, 45.96, 45.23, 45.66, None, 87399.0, 3986488.0, None, None, None], ['2017-07-19', 45.06, 45.72, 44.94, 45.57, None, 71971.0, 3273001.0, None, None, None], ['2017-07-18', 45.5, 45.55, 44.7, 45.0, None, 104003.0, 4684627.0, None, None, None], ['2017-07-17', 45.6, 46.23, 45.29, 45.6, None, 104995.0, 4801806.0, None, None, None], ['2017-07-14', 45.07, 45.56, 44.83, 45.53, None, 67375.0, 3054060.0, None, None, None], ['2017-07-13', 44.67, 45.18, 44.67, 44.95, None, 82745.0, 3718928.0, None, None, None], ['2017-07-12', 44.29, 45.05, 43.89, 44.95, None, 115705.0, 5133971.0, None, None, None], ['2017-07-11', 44.94, 44.94, 44.08, 44.2, None, 90538.0, 4010457.0, None, None, None], ['2017-07-10', 44.64, 45.18, 44.51, 44.7, None, 71868.0, 3221218.0, None, None, None], ['2017-07-07', 44.79, 44.79, 44.25, 44.53, None, 47999.0, 2136578.0, None, None, None], ['2017-07-06', 45.5, 45.5, 44.15, 44.62, None, 66116.0, 2952605.0, None, None, None], ['2017-07-05', 44.67, 45.36, 44.44, 45.19, None, 48706.0, 2189436.0, None, None, None], ['2017-07-04', 45.83, 45.83, 44.74, 44.8, None, 50549.0, 2273551.0, None, None, None], ['2017-07-03', 45.29, 45.83, 45.06, 45.75, None, 71381.0, 3251502.0, None, None, None], ['2017-06-30', 45.01, 45.74, 45.0, 45.44, None, 136112.0, 6187148.0, None, None, None], ['2017-06-29', 45.73, 45.81, 45.11, 45.2, None, 134965.0, 6132452.0, None, None, None], ['2017-06-28', 46.68, 46.68, 45.41, 45.68, None, 117165.0, 5381488.0, None, None, None], ['2017-06-27', 47.23, 47.33, 46.39, 46.83, None, 82492.0, 3866344.0, None, None, None], ['2017-06-26', 46.95, 47.63, 46.91, 47.21, None, 73322.0, 3465639.0, None, None, None], ['2017-06-23', 47.29, 47.4, 46.79, 46.99, None, 80586.0, 3792498.0, None, None, None], ['2017-06-22', 47.03, 47.4, 46.75, 47.29, None, 56071.0, 2640508.0, None, None, None], ['2017-06-21', 47.46, 47.48, 46.53, 46.99, None, 89752.0, 4206563.0, None, None, None], ['2017-06-20', 46.48, 47.43, 46.27, 47.37, None, 108334.0, 5109730.0, None, None, None], ['2017-06-19', 46.9, 46.9, 46.25, 46.64, None, 70056.0, 3260381.0, None, None, None], ['2017-06-16', 45.66, 46.8, 45.66, 46.63, None, 202214.0, 9411695.0, None, None, None], ['2017-06-15', 46.34, 46.34, 45.21, 45.67, None, 101733.0, 4635593.0, None, None, None], ['2017-06-14', 46.52, 46.86, 46.05, 46.33, None, 83741.0, 3881453.0, None, None, None], ['2017-06-13', 46.5, 46.51, 46.03, 46.32, None, 107644.0, 4981185.0, None, None, None], ['2017-06-12', 47.31, 47.43, 45.89, 46.31, None, 112942.0, 5238390.0, None, None, None], ['2017-06-09', 46.77, 47.44, 46.55, 47.44, None, 99674.0, 4702170.0, None, None, None], ['2017-06-08', 47.8, 47.8, 46.27, 46.27, None, 1945.0, 90599.0, None, None, None], ['2017-06-07', 47.01, 47.43, 47.01, 47.43, None, 1081.0, 51021.0, None, None, None], ['2017-06-06', 47.12, 47.45, 46.21, 47.43, None, 686.0, 32083.0, None, None, None], ['2017-06-02', 46.8, 46.99, 46.72, 46.99, None, 290.0, 13584.0, None, None, None], ['2017-06-01', 46.12, 46.52, 45.89, 46.52, None, 106513.0, 4930686.0, None, None, None], ['2017-05-31', 45.22, 46.26, 45.22, 45.86, None, 522.0, 24044.0, None, None, None], ['2017-05-30', 45.05, 46.02, 45.05, 46.02, None, 587.0, 26792.0, None, None, None], ['2017-05-29', 45.61, 45.61, 45.24, 45.32, None, 112.0, 5089.0, None, None, None], ['2017-05-26', 44.8, 45.36, 44.71, 45.3, None, 74453.0, 3360707.0, None, None, None], ['2017-05-25', 44.8, 44.87, 44.29, 44.78, None, 49970.0, 2231857.0, None, None, None], ['2017-05-24', 43.92, 44.67, 43.92, 44.53, None, 111923.0, 4971343.0, None, None, None], ['2017-05-23', 43.67, 44.13, 43.55, 43.9, None, 38308.0, 1681904.0, None, None, None], ['2017-05-22', 44.16, 44.22, 43.44, 43.84, None, 70856.0, 3103013.0, None, None, None], ['2017-05-19', 43.74, 44.12, 43.74, 44.12, None, 45.0, 1980.0, None, None, None], ['2017-05-18', 44.0, 44.3, 43.29, 43.98, None, 166160.0, 7277314.0, None, None, None], ['2017-05-17', 45.06, 45.34, 44.01, 44.19, None, 149515.0, 6664744.0, None, None, None], ['2017-05-16', 45.15, 45.36, 44.56, 45.31, None, 101476.0, 4567885.0, None, None, None], ['2017-05-15', 45.09, 45.78, 44.31, 45.14, None, 193702.0, 8734286.0, None, None, None], ['2017-05-12', 45.18, 45.18, 44.16, 44.99, None, 159495.0, 7113519.0, None, None, None], ['2017-05-11', 43.4, 46.06, 43.25, 45.0, None, 189125.0, 8496322.0, None, None, None], ['2017-05-10', 43.5, 43.6, 42.53, 43.28, None, 91858.0, 3958630.0, None, None, None], ['2017-05-09', 41.83, 43.55, 41.82, 43.3, None, 151439.0, 6538516.0, None, None, None], ['2017-05-08', 43.0, 43.0, 42.04, 42.24, None, 97456.0, 4128048.0, None, None, None], ['2017-05-05', 42.52, 42.91, 42.38, 42.75, None, 78512.0, 3353971.0, None, None, None], ['2017-05-04', 41.86, 42.5, 41.71, 42.5, None, 82058.0, 3465505.0, None, None, None], ['2017-05-03', 42.2, 42.29, 41.78, 41.9, None, 65266.0, 2738394.0, None, None, None], ['2017-05-02', 41.89, 42.23, 41.76, 42.15, None, 86559.0, 3636583.0, None, None, None], ['2017-05-01', None, 42.245, 41.655, 41.72, -0.44, 86348.0, 3606589.0, None, None, None], ['2017-04-28', 42.17, 42.25, 41.66, 41.72, None, 86348.0, 3606589.0, None, None, None], ['2017-04-27', 41.51, 42.24, 41.51, 42.16, None, 151683.0, 6380639.0, None, None, None], ['2017-04-26', 41.88, 41.94, 41.4, 41.5, None, 65847.0, 2743109.0, None, None, None], ['2017-04-25', 41.93, 42.18, 41.66, 41.89, None, 85973.0, 3604204.0, None, None, None], ['2017-04-24', 42.01, 42.02, 41.23, 41.81, None, 102084.0, 4247032.0, None, None, None], ['2017-04-21', 41.97, 42.14, 41.01, 41.32, None, 186784.0, 7728103.0, None, None, None], ['2017-04-20', 42.5, 42.64, 41.52, 41.93, None, 223621.0, 9418192.0, None, None, None], ['2017-04-19', 41.94, 42.61, 41.94, 42.61, None, 92722.0, 3930856.0, None, None, None], ['2017-04-18', 42.24, 42.4, 41.54, 42.0, None, 133057.0, 5587565.0, None, None, None], ['2017-04-17', None, 42.48, 41.985, 42.2, None, 88416.0, 3734717.0, None, None, None], ['2017-04-14', None, 42.48, 41.985, 42.2, None, 88416.0, 3734717.0, None, None, None], ['2017-04-13', 42.06, 42.48, 41.99, 42.2, None, 88416.0, 3734717.0, None, None, None], ['2017-04-12', 42.02, 42.45, 41.84, 42.2, None, 158278.0, 6672547.0, None, None, None], ['2017-04-11', 41.62, 42.03, 41.53, 41.75, None, 107817.0, 4501109.0, None, None, None], ['2017-04-10', 41.46, 41.68, 41.31, 41.68, None, 62297.0, 2585922.0, None, None, None], ['2017-04-07', 40.9, 41.42, 40.84, 41.42, None, 81255.0, 3344628.0, None, None, None], ['2017-04-06', 40.96, 41.25, 40.83, 41.05, None, 96794.0, 3968681.0, None, None, None], ['2017-04-05', 41.1, 41.34, 40.79, 41.1, None, 156005.0, 6404780.0, None, None, None], ['2017-04-04', 39.5, 40.88, 39.48, 40.81, None, 193156.0, 7822665.0, None, None, None], ['2017-04-03', 40.15, 40.15, 39.54, 39.64, None, 127973.0, 5081376.0, None, None, None], ['2017-03-31', 39.77, 40.07, 39.42, 39.98, None, 95382.0, 3795061.0, None, None, None], ['2017-03-30', 40.02, 40.14, 39.42, 39.75, None, 189201.0, 7541354.0, None, None, None], ['2017-03-29', 39.39, 40.01, 39.05, 40.01, None, 335406.0, 13349426.0, None, None, None], ['2017-03-28', 38.95, 39.35, 38.79, 39.22, None, 115075.0, 4505494.0, None, None, None], ['2017-03-27', 38.73, 39.1, 38.53, 38.85, None, 191515.0, 7446952.0, None, None, None], ['2017-03-24', 38.94, 39.02, 38.6, 38.94, None, 210926.0, 8205507.0, None, None, None], ['2017-03-23', 39.01, 39.25, 38.63, 38.96, None, 169971.0, 6621807.0, None, None, None], ['2017-03-22', 38.25, 39.02, 37.53, 38.94, None, 670349.0, 25910543.0, None, None, None], ['2017-03-21', 41.8, 41.83, 40.97, 40.98, None, 56906.0, 2349965.0, None, None, None], ['2017-03-20', 41.26, 42.17, 41.26, 41.97, None, 97572.0, 4074891.0, None, None, None], ['2017-03-17', 41.47, 41.59, 41.16, 41.34, None, 90109.0, 3734232.0, None, None, None], ['2017-03-16', 41.4, 41.57, 41.09, 41.46, None, 55799.0, 2308423.0, None, None, None], ['2017-03-15', 41.4, 41.5, 40.91, 41.25, None, 60324.0, 2488650.0, None, None, None], ['2017-03-14', 41.2, 41.5, 41.2, 41.3, None, 60420.0, 2498025.0, None, None, None], ['2017-03-13', 41.4, 41.46, 41.08, 41.3, None, 44803.0, 1850251.0, None, None, None], ['2017-03-10', 41.53, 41.53, 41.16, 41.4, None, 38518.0, 1592270.0, None, None, None], ['2017-03-09', 41.61, 41.61, 41.16, 41.4, None, 43988.0, 1819182.0, None, None, None], ['2017-03-08', 41.13, 41.71, 40.95, 41.68, None, 45111.0, 1870935.0, None, None, None], ['2017-03-07', 41.5, 41.8, 41.25, 41.42, None, 61925.0, 2569608.0, None, None, None], ['2017-03-06', 41.25, 41.4, 40.81, 41.4, None, 46510.0, 1916799.0, None, None, None], ['2017-03-03', 41.12, 41.22, 40.84, 41.18, None, 40800.0, 1675587.0, None, None, None], ['2017-03-02', 41.38, 41.39, 40.76, 41.17, None, 49863.0, 2048153.0, None, None, None], ['2017-03-01', 41.19, 41.57, 40.9, 41.2, None, 86753.0, 3569796.0, None, None, None], ['2017-02-28', 40.38, 40.95, 40.38, 40.84, None, 67440.0, 2747011.0, None, None, None], ['2017-02-27', 39.75, 40.64, 39.75, 40.39, None, 62655.0, 2520260.0, None, None, None], ['2017-02-24', 39.77, 40.14, 38.91, 39.74, None, 101294.0, 4015150.0, None, None, None], ['2017-02-23', 39.72, 39.98, 39.38, 39.79, None, 81945.0, 3260642.0, None, None, None], ['2017-02-22', 39.6, 39.75, 39.27, 39.7, None, 77619.0, 3066894.0, None, None, None], ['2017-02-21', 38.85, 39.57, 38.85, 39.45, None, 46070.0, 1808350.0, None, None, None], ['2017-02-20', 39.25, 39.25, 38.81, 38.98, None, 37014.0, 1444138.0, None, None, None], ['2017-02-17', 38.8, 39.03, 38.48, 39.02, None, 60583.0, 2352961.0, None, None, None], ['2017-02-16', 38.8, 39.2, 38.25, 38.71, None, 84682.0, 3282322.0, None, None, None], ['2017-02-15', 38.5, 38.93, 38.4, 38.72, None, 77420.0, 2996861.0, None, None, None], ['2017-02-14', 38.81, 38.86, 38.0, 38.37, None, 82601.0, 3163898.0, None, None, None], ['2017-02-13', 37.37, 39.36, 37.35, 38.53, None, 177171.0, 6804028.0, None, None, None], ['2017-02-10', 36.65, 37.5, 36.57, 37.06, None, 115843.0, 4291017.0, None, None, None], ['2017-02-09', 36.2, 36.25, 35.77, 36.25, None, 67781.0, 2445428.0, None, None, None], ['2017-02-08', 35.98, 36.14, 35.84, 36.05, None, 39731.0, 1431205.0, None, None, None], ['2017-02-07', 35.56, 36.05, 35.36, 35.89, None, 67410.0, 2410818.0, None, None, None], ['2017-02-06', 36.06, 36.15, 35.6, 35.64, None, 41911.0, 1496794.0, None, None, None], ['2017-02-03', 36.02, 36.2, 35.73, 36.1, None, 40705.0, 1464712.0, None, None, None], ['2017-02-02', 35.95, 36.2, 35.7, 36.07, None, 54279.0, 1953176.0, None, None, None], ['2017-02-01', 34.75, 36.0, 34.75, 35.94, None, 85137.0, 3038172.0, None, None, None], ['2017-01-31', 35.24, 35.24, 34.56, 34.56, None, 63371.0, 2199583.0, None, None, None], ['2017-01-30', 35.38, 35.59, 34.95, 35.15, None, 69603.0, 2457762.0, None, None, None], ['2017-01-27', 34.83, 35.43, 34.81, 35.3, None, 69657.0, 2444913.0, None, None, None], ['2017-01-26', 35.07, 35.58, 34.8, 34.89, None, 64103.0, 2249375.0, None, None, None], ['2017-01-25', 34.42, 34.86, 34.03, 34.83, None, 56240.0, 1947147.0, None, None, None], ['2017-01-24', 34.0, 34.35, 33.85, 34.22, None, 48797.0, 1666086.0, None, None, None], ['2017-01-23', 34.04, 34.12, 33.62, 34.06, None, 55333.0, 1877957.0, None, None, None], ['2017-01-20', 34.54, 34.59, 34.05, 34.17, None, 80246.0, 2743474.0, None, None, None], ['2017-01-19', 35.04, 35.04, 34.42, 34.5, None, 73105.0, 2526731.0, None, None, None], ['2017-01-18', 35.04, 35.51, 34.8, 34.9, None, 65931.0, 2311608.0, None, None, None], ['2017-01-17', 35.06, 35.19, 34.79, 34.99, None, 39195.0, 1369857.0, None, None, None], ['2017-01-16', 34.85, 35.24, 34.56, 35.07, None, 47879.0, 1678679.0, None, None, None], ['2017-01-13', 34.98, 34.98, 34.6, 34.85, None, 59367.0, 2065534.0, None, None, None], ['2017-01-12', 35.38, 35.38, 34.31, 34.9, None, 163860.0, 5703427.0, None, None, None], ['2017-01-11', 34.95, 36.0, 34.84, 35.42, None, 123530.0, 4369079.0, None, None, None], ['2017-01-10', 34.8, 34.98, 34.46, 34.91, None, 43976.0, 1528055.0, None, None, None], ['2017-01-09', 35.29, 35.35, 34.43, 34.67, None, 62225.0, 2157182.0, None, None, None], ['2017-01-06', 34.91, 35.21, 34.91, 35.04, None, 27507.0, 964046.0, None, None, None], ['2017-01-05', 35.02, 35.2, 34.73, 35.06, None, 48412.0, 1692326.0, None, None, None], ['2017-01-04', 35.48, 35.51, 34.75, 35.19, None, 54408.0, 1906810.0, None, None, None], ['2017-01-03', 35.9, 35.93, 35.34, 35.48, None, 70618.0, 2515473.0, None, None, None], ['2017-01-02', 34.99, 35.94, 34.99, 35.8, None, 44700.0, 1590561.0, None, None, None]]\n"
     ]
    }
   ],
   "source": [
    "# Task 2 : Convert the returned JSON object into a Python dictionary.\n",
    "json_2017 = r_2017.json()\n",
    "\n",
    "data2017 = collections.OrderedDict()\n",
    "data2017 = json_2017['dataset']['data']\n",
    "\n",
    "print(data2017)"
   ]
  },
  {
   "cell_type": "code",
   "execution_count": 161,
   "metadata": {},
   "outputs": [],
   "source": [
    "# Task 3 : Calculate what the highest and lowest opening prices were for the stock in this period.\n",
    "Open = []\n",
    "i = 0\n",
    "\n",
    "while (i < len(data2017)):\n",
    "    val = data2017[i][1]\n",
    "    if val != None:\n",
    "        Open.append(val)\n",
    "    i = i + 1    "
   ]
  },
  {
   "cell_type": "code",
   "execution_count": 162,
   "metadata": {},
   "outputs": [
    {
     "data": {
      "image/png": "[encoded data removed]",
      "text/plain": [
       "<matplotlib.figure.Figure at 0x21eb0a308d0>"
      ]
     },
     "metadata": {},
     "output_type": "display_data"
    },
    {
     "name": "stdout",
     "output_type": "stream",
     "text": [
      "Highest Open price is 53.11\n",
      "Lowest Open price is 34.0\n"
     ]
    }
   ],
   "source": [
    "plt.hist(Open, bins = 25)\n",
    "plt.xlabel('Open Price')\n",
    "plt.ylabel('Count')\n",
    "plt.show()\n",
    "\n",
    "print('Highest Open price is', max(Open))\n",
    "print('Lowest Open price is', min(Open))"
   ]
  },
  {
   "cell_type": "code",
   "execution_count": 163,
   "metadata": {},
   "outputs": [
    {
     "data": {
      "image/png": "[encoded data removed]",
      "text/plain": [
       "<matplotlib.figure.Figure at 0x21eb0a30d68>"
      ]
     },
     "metadata": {},
     "output_type": "display_data"
    },
    {
     "name": "stdout",
     "output_type": "stream",
     "text": [
      "Largest Price Change In a Single Day Is: 2.8\n"
     ]
    }
   ],
   "source": [
    "# Task 4 : What was the largest change in any one day (based on High and Low price)?\n",
    "daily_change = []\n",
    "i = 0\n",
    "\n",
    "while (i < len(data2017)):\n",
    "    daily_change.append(data2017[i][2] -data2017[i][3])\n",
    "    i = i + 1\n",
    "\n",
    "plt.hist(daily_change, bins = 25)\n",
    "plt.xlabel('Price Change within day (High - Low)')\n",
    "plt.ylabel('Count')\n",
    "plt.show()  \n",
    "\n",
    "print('Largest Price Change In a Single Day Is:', round(max(daily_change),1))"
   ]
  },
  {
   "cell_type": "code",
   "execution_count": 164,
   "metadata": {},
   "outputs": [
    {
     "data": {
      "image/png": "[encoded data removed]",
      "text/plain": [
       "<matplotlib.figure.Figure at 0x21eb21aa5c0>"
      ]
     },
     "metadata": {},
     "output_type": "display_data"
    },
    {
     "name": "stdout",
     "output_type": "stream",
     "text": [
      "Largest Closing Price Change Is: 2.6\n"
     ]
    }
   ],
   "source": [
    "# Task 5 : What was the largest change between any two days (based on Closing Price)?\n",
    "close_change = []\n",
    "i = 1\n",
    "\n",
    "while (i < len(data2017)):\n",
    "    close_change.append(data2017[i][4] -data2017[i-1][4])\n",
    "    i = i + 1\n",
    "\n",
    "plt.hist(close_change, bins = 25)\n",
    "plt.xlabel('Day-to-Day Close Price Changes')\n",
    "plt.ylabel('Count')\n",
    "plt.show()  \n",
    "\n",
    "print('Largest Closing Price Change Is:', round(max(close_change),1))"
   ]
  },
  {
   "cell_type": "code",
   "execution_count": 165,
   "metadata": {},
   "outputs": [
    {
     "data": {
      "image/png": "[encoded data removed]",
      "text/plain": [
       "<matplotlib.figure.Figure at 0x21eb33a6a58>"
      ]
     },
     "metadata": {},
     "output_type": "display_data"
    },
    {
     "name": "stdout",
     "output_type": "stream",
     "text": [
      "Average Trading Volume Is: 89124.3\n"
     ]
    }
   ],
   "source": [
    "# Task 6 : What was the average daily trading volume during this year?\n",
    "Vol = []\n",
    "i = 0\n",
    "\n",
    "while (i < len(data2017)):\n",
    "    val = data2017[i][6]\n",
    "    if val != None:\n",
    "        Vol.append(val)\n",
    "    i = i + 1   \n",
    "    \n",
    "plt.hist(Vol, bins = 25)\n",
    "plt.xlabel('Daily Trading Volume')\n",
    "plt.ylabel('Count')\n",
    "plt.show()  \n",
    "\n",
    "print('Average Trading Volume Is:', round(sum(Vol)/len(Vol),1))"
   ]
  },
  {
   "cell_type": "code",
   "execution_count": 166,
   "metadata": {},
   "outputs": [],
   "source": [
    "# Task 7 : (Optional) What was the median trading volume during this year.\n",
    "\n",
    "def median(x):\n",
    "    Vol_sorted = sorted(x, key = float)\n",
    "    halfway = len(Vol_sorted)/2\n",
    "    if ((len(Vol_sorted) % 2) > 0):\n",
    "        a = round(halfway)\n",
    "        b = a - 1\n",
    "        med = (Vol_sorted[a] + Vol_sorted[b])/2\n",
    "    else:\n",
    "        med = Vol_sorted[halfway]\n",
    "    return med\n"
   ]
  },
  {
   "cell_type": "code",
   "execution_count": 167,
   "metadata": {},
   "outputs": [
    {
     "name": "stdout",
     "output_type": "stream",
     "text": [
      "Median Trading Volume is 76443.0\n"
     ]
    }
   ],
   "source": [
    "med = median(Vol)\n",
    "\n",
    "print('Median Trading Volume is', med)"
   ]
  }
 ],
 "metadata": {
  "kernelspec": {
   "display_name": "Python 3",
   "language": "python",
   "name": "python3"
  },
  "language_info": {
   "codemirror_mode": {
    "name": "ipython",
    "version": 3
   },
   "file_extension": ".py",
   "mimetype": "text/x-python",
   "name": "python",
   "nbconvert_exporter": "python",
   "pygments_lexer": "ipython3",
   "version": "3.6.3"
  }
 },
 "nbformat": 4,
 "nbformat_minor": 2
}
